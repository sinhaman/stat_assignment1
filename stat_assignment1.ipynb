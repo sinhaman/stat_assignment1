{
 "cells": [
  {
   "cell_type": "markdown",
   "id": "94ba7281",
   "metadata": {},
   "source": [
    "1. What is statistics, and why is it important?\n",
    "Statistics is the study of collecting, organizing, analyzing, interpreting, and presenting data.\n",
    "Importance: It helps in decision-making, identifying trends, and making predictions in various fields like business, medicine, and government."
   ]
  },
  {
   "cell_type": "markdown",
   "id": "d1283028",
   "metadata": {},
   "source": [
    "2. What are the two main types of statistics?\n",
    "    1.Descriptive statistics\n",
    "\n",
    "    2.Inferential statistics\n",
    "\n"
   ]
  },
  {
   "cell_type": "markdown",
   "id": "22b01a40",
   "metadata": {},
   "source": [
    "3. What are descriptive statistics?\n",
    "They summarize and describe the main features of a dataset using measures like mean, median, mode, standard deviation, and charts.\n",
    "\n"
   ]
  },
  {
   "cell_type": "markdown",
   "id": "63914588",
   "metadata": {},
   "source": [
    "4. What is inferential statistics?\n",
    "It involves making predictions or generalizations about a population based on a sample using probability theory."
   ]
  },
  {
   "cell_type": "markdown",
   "id": "8b5261df",
   "metadata": {},
   "source": [
    "5. What is sampling in statistics?\n",
    "Sampling is the process of selecting a subset (sample) from a larger group (population) to make inferences about the whole group."
   ]
  },
  {
   "cell_type": "markdown",
   "id": "5260c844",
   "metadata": {},
   "source": [
    "6. What are the different types of sampling methods?\n",
    "Random sampling\n",
    "\n",
    "Systematic sampling\n",
    "\n",
    "Stratified sampling\n",
    "\n",
    "Cluster sampling\n",
    "\n",
    "Convenience sampling\n",
    "\n",
    "Judgmental (purposive) sampling"
   ]
  },
  {
   "cell_type": "markdown",
   "id": "7ebea3ad",
   "metadata": {},
   "source": [
    "7. What is the difference between random and non-random sampling?\n",
    "Random sampling: Every individual has an equal chance of being selected. (e.g., lottery draw)\n",
    "\n",
    "Non-random sampling: Selection is based on judgment or convenience. (e.g., surveying friends)"
   ]
  },
  {
   "cell_type": "markdown",
   "id": "b25707f1",
   "metadata": {},
   "source": [
    "8. Define and give examples of qualitative and quantitative data.\n",
    "Qualitative (categorical): Describes qualities or categories.\n",
    "Example: Colors, gender, types of cars.\n",
    "\n",
    "Quantitative (numerical): Represents measurable quantities.\n",
    "Example: Age, height, income."
   ]
  },
  {
   "cell_type": "markdown",
   "id": "a5b9d9a6",
   "metadata": {},
   "source": [
    "9. What are the different types of data in statistics?\n",
    "Qualitative (categorical)\n",
    "\n",
    "Quantitative (numerical)\n",
    "\n",
    "Discrete (countable)\n",
    "\n",
    "Continuous (measurable)"
   ]
  },
  {
   "cell_type": "markdown",
   "id": "1f04d214",
   "metadata": {},
   "source": [
    "10. Explain nominal, ordinal, interval, and ratio levels of measurement.\n",
    "Nominal: Categories without order (e.g., gender, colors)\n",
    "\n",
    "Ordinal: Categories with order (e.g., ranks, satisfaction levels)\n",
    "\n",
    "Interval: Ordered, with equal intervals but no true zero (e.g., temperature in °C)\n",
    "\n",
    "Ratio: Like interval, but with a true zero (e.g., height, weight, income)"
   ]
  },
  {
   "cell_type": "markdown",
   "id": "f03fc77d",
   "metadata": {},
   "source": [
    "11. What is the measure of central tendency?\n",
    "It indicates the central or typical value in a dataset. The main measures are mean, median, and mode.\n",
    "\n"
   ]
  },
  {
   "cell_type": "markdown",
   "id": "fa135416",
   "metadata": {},
   "source": [
    "12. Define mean, median, and mode.\n",
    "Mean: The average (sum of values ÷ number of values)\n",
    "\n",
    "Median: The middle value when data is sorted\n",
    "\n",
    "Mode: The value that occurs most frequently\n",
    "\n"
   ]
  },
  {
   "cell_type": "markdown",
   "id": "3df4576d",
   "metadata": {},
   "source": [
    "13. What is the significance of the measure of central tendency?\n",
    "It gives a single value that represents the center of the data, helping in comparison and understanding of the dataset."
   ]
  },
  {
   "cell_type": "markdown",
   "id": "c87bfc41",
   "metadata": {},
   "source": [
    "Variance measures how spread out the data is.\n",
    "Formula (population):σ 2= ∑(x i −μ)2/N \n",
    "\n",
    " \n",
    "​"
   ]
  },
  {
   "cell_type": "markdown",
   "id": "fffdafbd",
   "metadata": {},
   "source": [
    "15. What is standard deviation, and why is it important?\n",
    "Standard deviation is the square root of variance. It shows how much values deviate from the mean.\n",
    "Importance: It helps understand data consistency and variability.\n",
    "\n"
   ]
  },
  {
   "cell_type": "markdown",
   "id": "c59c20e8",
   "metadata": {},
   "source": [
    "16. Define and explain the term range in statistics.\n",
    "Range = Maximum value - Minimum value\n",
    "It shows the spread between the highest and lowest values.\n",
    "\n"
   ]
  },
  {
   "cell_type": "markdown",
   "id": "2e9abfb2",
   "metadata": {},
   "source": [
    "17. What is the difference between variance and standard deviation?\n",
    "Variance: Average of squared deviations\n",
    "\n",
    "Standard deviation: Square root of variance (more interpretable as it's in original units)"
   ]
  },
  {
   "cell_type": "markdown",
   "id": "295bc39d",
   "metadata": {},
   "source": [
    "18. What is skewness in a dataset?\n",
    "Skewness measures the asymmetry of the data distribution. It tells whether data leans to the left or right."
   ]
  },
  {
   "cell_type": "markdown",
   "id": "0bd4def7",
   "metadata": {},
   "source": [
    "19. What does it mean if a dataset is positively or negatively skewed?\n",
    "Positively skewed: Tail on the right, mean > median\n",
    "\n",
    "Negatively skewed: Tail on the left, mean < median\n",
    "\n"
   ]
  },
  {
   "cell_type": "markdown",
   "id": "fdea2f2a",
   "metadata": {},
   "source": [
    "20. Define and explain kurtosis.\n",
    "Kurtosis measures the \"tailedness\" or peakedness of a distribution.\n",
    "\n",
    "High kurtosis: Heavy tails, more outliers\n",
    "\n",
    "Low kurtosis: Light tails, fewer outliers"
   ]
  },
  {
   "cell_type": "markdown",
   "id": "26f39cfa",
   "metadata": {},
   "source": [
    "21. What is the purpose of covariance?\n",
    "Covariance shows the direction of the relationship between two variables (positive or negative).\n",
    "But it does not indicate strength."
   ]
  },
  {
   "cell_type": "markdown",
   "id": "36eb3275",
   "metadata": {},
   "source": [
    "22. What does correlation measure in statistics?\n",
    "Correlation measures both strength and direction of a linear relationship between two variables.\n",
    "Values range from –1 to +1.\n",
    "\n"
   ]
  },
  {
   "cell_type": "markdown",
   "id": "1c9b008d",
   "metadata": {},
   "source": [
    "23. What is the difference between covariance and correlation?\n",
    "Covariance: Only shows direction (positive/negative)\n",
    "\n",
    "Correlation: Standardized form of covariance; shows both direction and strength of relationship\n",
    "\n"
   ]
  },
  {
   "cell_type": "markdown",
   "id": "29ea94a6",
   "metadata": {},
   "source": [
    "24. What are some real-world applications of statistics?\n",
    "Business forecasting\n",
    "\n",
    "Quality control\n",
    "\n",
    "Medical research (e.g., drug trials)\n",
    "\n",
    "Economics (e.g., inflation analysis)\n",
    "\n",
    "Sports analytics\n",
    "\n",
    "Education (e.g., exam scoring analysis)\n",
    "\n"
   ]
  },
  {
   "cell_type": "markdown",
   "id": "41fc2f41",
   "metadata": {},
   "source": [
    "practical"
   ]
  },
  {
   "cell_type": "markdown",
   "id": "754e37e6",
   "metadata": {},
   "source": [
    "1.How do you calculate the mean, median, and mode of a dataset\u001d\n",
    "1. Mean (Average):\n",
    "The mean is the sum of all values divided by the number of values.\n",
    "\n",
    "Formula:\n",
    "\n",
    "Mean=∑𝑥/𝑛\n",
    "Median (Middle Value):\n",
    "The median is the middle number when the data is sorted in order.\n",
    "\n",
    "If the number of values is odd, the median is the middle value.\n",
    "\n",
    "If it's even, the median is the average of the two middle values.\n",
    "Mode (Most Frequent Value):\n",
    "The mode is the value(s) that occur most frequently.\n",
    "\n",
    "Example:\n",
    "[2, 3, 3, 5, 7] → Mode = 3\n",
    "[1, 1, 2, 2, 3] → Modes = 1 and 2 (bimodal)\n"
   ]
  },
  {
   "cell_type": "markdown",
   "id": "00c388e8",
   "metadata": {},
   "source": [
    "\n",
    "import numpy as np\n",
    "\n",
    "# Sample dataset\n",
    "data = [10, 15, 15, 20, 25, 30, 35]\n",
    "\n",
    "# Calculate variance and standard deviation\n",
    "variance = np.var(data)  # Population variance\n",
    "std_deviation = np.std(data)  # Population standard deviation\n",
    "\n",
    "# Print the results\n",
    "print(\"Dataset:\", data)\n",
    "print(\"Variance:\", variance)\n",
    "print(\"Standard Deviation:\", std_deviation)\n"
   ]
  },
  {
   "cell_type": "markdown",
   "id": "3a9a6bfb",
   "metadata": {},
   "source": [
    "q2.Create a dataset and classify it into nominal, ordinal, interval, and ratio types\n",
    "1. Nominal Data (Categories without order)\n",
    "nominal = [\"Red\", \"Blue\", \"Green\", \"Red\", \"Blue\"]\n",
    " 2. Ordinal Data (Ordered categories)\n",
    "These have a meaningful order, but the differences between levels aren't measurable.\n",
    "\n",
    "ordinal = [\"Low\", \"Medium\", \"High\", \"Medium\", \"Low\"]\n",
    "3. Interval Data (Ordered, equal spacing, but no true zero)\n",
    "These are numeric values with equal intervals, but no absolute zero.\n",
    "interval = [30, 40, 50, 60, 70]  # Example: temperature in Celsius\n",
    "\n",
    " 4. Ratio Data (All properties, including true zero)\n",
    "These are like interval data but have a true zero, meaning ratios are meaningful.\n",
    "ratio = [0, 10, 20, 30, 40]  # Example: weight or age\n"
   ]
  },
  {
   "cell_type": "markdown",
   "id": "322ee19a",
   "metadata": {},
   "source": [
    "Q5. Implement sampling techniques like random sampling and stratified sampling\n",
    "import pandas as pd\n",
    "import numpy as np\n",
    "\n",
    "# Create a sample dataset\n",
    "data = {\n",
    "    \"ID\": range(1, 21),\n",
    "    \"Group\": [\"A\"] * 10 + [\"B\"] * 10,\n",
    "    \"Score\": np.random.randint(60, 100, 20)\n",
    "}\n",
    "df = pd.DataFrame(data)\n",
    "\n",
    "# ----------------------------\n",
    "# 1. Simple Random Sampling\n",
    "# ----------------------------\n",
    "random_sample = df.sample(n=5, random_state=42)\n",
    "\n",
    "# ----------------------------\n",
    "# 2. Stratified Sampling\n",
    "# ----------------------------\n",
    "# Take 2 samples from each group (A and B)\n",
    "stratified_sample = df.groupby(\"Group\", group_keys=False).apply(lambda x: x.sample(2, random_state=42))\n",
    "\n",
    "# ----------------------------\n",
    "# Print the results\n",
    "# ----------------------------\n",
    "print(\"📌 Original Dataset:\")\n",
    "print(df)\n",
    "\n",
    "print(\"\\n🎯 Simple Random Sample:\")\n",
    "print(random_sample)\n",
    "\n",
    "print(\"\\n🎯 Stratified Sample:\")\n",
    "print(stratified_sample)\n"
   ]
  },
  {
   "cell_type": "markdown",
   "id": "e34ceee5",
   "metadata": {},
   "source": [
    "Q5.Write a Python function to calculate the range of a dataset\n",
    "def calculate_range(data):\n",
    "    \"\"\"\n",
    "    Calculates the range of a dataset.\n",
    "    \n",
    "    Parameters:\n",
    "        data (list): A list of numerical values.\n",
    "    \n",
    "    Returns:\n",
    "        int or float: The range (max - min).\n",
    "    \"\"\"\n",
    "    if not data:\n",
    "        return None\n",
    "    return max(data) - min(data)\n",
    "\n",
    "# Example usage\n",
    "dataset = [10, 15, 20, 25, 30]\n",
    "result = calculate_range(dataset)\n",
    "print(\"Range of dataset:\", result)\n"
   ]
  },
  {
   "cell_type": "markdown",
   "id": "7ea6b12d",
   "metadata": {},
   "source": [
    "Q6. Create a dataset and plot its histogram to visualize skewness\n",
    "[0.1483, 2.9516, 0.3343, 2.1531, 0.4185, 0.8586, 2.7837, 1.0274, 2.0209, 1.1169,\n",
    " 2.0788, 1.1305, 0.1883, 3.0651, 3.1389, 0.0761, 1.5292, 0.0615, 0.5984, 1.0703,\n",
    " 0.4467, 0.7775, 0.2746, 0.7697, 1.4973, 0.1914, 2.3827, 0.4658, 0.4405, 0.4806]\n"
   ]
  },
  {
   "cell_type": "markdown",
   "id": "4afdfb1f",
   "metadata": {},
   "source": [
    "Q7.Calculate skewness and kurtosis of a dataset using Python libraries\n",
    "from scipy.stats import skew, kurtosis\n",
    "\n",
    "# Sample dataset\n",
    "data = [10, 15, 15, 20, 25, 30, 35]\n",
    "\n",
    "# Calculate skewness and kurtosis\n",
    "skewness_val = skew(data)\n",
    "kurtosis_val = kurtosis(data)\n",
    "\n",
    "print(\"Skewness:\", skewness_val)\n",
    "print(\"Kurtosis:\", kurtosis_val)\n"
   ]
  },
  {
   "cell_type": "markdown",
   "id": "57d3723e",
   "metadata": {},
   "source": [
    "Q8.Generate a dataset and demonstrate positive and negative skewnes\n",
    "import numpy as np\n",
    "from scipy.stats import skew\n",
    "import matplotlib.pyplot as plt\n",
    "import seaborn as sns\n",
    "\n",
    "# Generate positively skewed data (right skew)\n",
    "positive_skew_data = np.random.exponential(scale=2, size=1000)\n",
    "\n",
    "# Generate negatively skewed data (left skew)\n",
    "negative_skew_data = -np.random.exponential(scale=2, size=1000) + 10  # Shift to keep positive values\n",
    "\n",
    "# Calculate skewness\n",
    "positive_skewness = skew(positive_skew_data)\n",
    "negative_skewness = skew(negative_skew_data)\n",
    "\n",
    "print(f\"Positive Skewness: {positive_skewness:.4f}\")\n",
    "print(f\"Negative Skewness: {negative_skewness:.4f}\")\n",
    "\n",
    "# Plotting histograms\n",
    "plt.figure(figsize=(12, 5))\n",
    "\n",
    "plt.subplot(1, 2, 1)\n",
    "sns.histplot(positive_skew_data, kde=True, color='blue')\n",
    "plt.title(\"Positive Skewness\")\n",
    "plt.xlabel(\"Value\")\n",
    "plt.ylabel(\"Frequency\")\n",
    "\n",
    "plt.subplot(1, 2, 2)\n",
    "sns.histplot(negative_skew_data, kde=True, color='red')\n",
    "plt.title(\"Negative Skewness\")\n",
    "plt.xlabel(\"Value\")\n",
    "plt.ylabel(\"Frequency\")\n",
    "\n",
    "plt.tight_layout()\n",
    "plt.show()\n"
   ]
  },
  {
   "cell_type": "markdown",
   "id": "10e9118c",
   "metadata": {},
   "source": [
    "Q8.Write a Python script to calculate covariance between two datasets\n",
    "import numpy as np\n",
    "\n",
    "# Sample datasets\n",
    "x = [2, 4, 6, 8, 10]\n",
    "y = [1, 3, 5, 7, 9]\n",
    "\n",
    "# Calculate covariance matrix\n",
    "cov_matrix = np.cov(x, y, ddof=1)\n",
    "\n",
    "# Covariance between x and y is off-diagonal element\n",
    "cov_xy = cov_matrix[0, 1]\n",
    "\n",
    "print(\"Covariance between x and y:\", cov_xy)\n"
   ]
  },
  {
   "cell_type": "markdown",
   "id": "9148e4fb",
   "metadata": {},
   "source": [
    "Q9.Write a Python script to calculate the correlation coefficient between two datasets\n",
    "import numpy as np\n",
    "\n",
    "# Sample datasets\n",
    "x = [2, 4, 6, 8, 10]\n",
    "y = [1, 3, 5, 7, 9]\n",
    "\n",
    "# Calculate correlation coefficient matrix\n",
    "corr_matrix = np.corrcoef(x, y)\n",
    "\n",
    "# Correlation coefficient between x and y is off-diagonal element\n",
    "corr_xy = corr_matrix[0, 1]\n",
    "\n",
    "print(\"Correlation coefficient between x and y:\", corr_xy)\n"
   ]
  },
  {
   "cell_type": "markdown",
   "id": "d4c31f28",
   "metadata": {},
   "source": [
    "Q10.Write a Python script to calculate the correlation coefficient between two datasets\n",
    "from scipy.stats import pearsonr\n",
    "\n",
    "# Sample datasets\n",
    "x = [2, 4, 6, 8, 10]\n",
    "y = [1, 3, 5, 7, 9]\n",
    "\n",
    "# Calculate Pearson correlation coefficient and p-value\n",
    "corr_coef, p_value = pearsonr(x, y)\n",
    "\n",
    "print(\"Correlation coefficient:\", corr_coef)\n",
    "print(\"P-value:\", p_value)\n"
   ]
  },
  {
   "cell_type": "markdown",
   "id": "4445ce8d",
   "metadata": {},
   "source": [
    "Q11. Create a scatter plot to visualize the relationship between two variables\n",
    "import matplotlib.pyplot as plt\n",
    "import seaborn as sns\n",
    "\n",
    "# Sample data\n",
    "x = [2, 4, 6, 8, 10]\n",
    "y = [1, 3, 5, 7, 9]\n",
    "\n",
    "# Create scatter plot\n",
    "plt.figure(figsize=(8, 5))\n",
    "sns.scatterplot(x=x, y=y)\n",
    "\n",
    "plt.title(\"Scatter Plot: Relationship Between Two Variables\")\n",
    "plt.xlabel(\"Variable X\")\n",
    "plt.ylabel(\"Variable Y\")\n",
    "plt.grid(True)\n",
    "plt.show()\n"
   ]
  },
  {
   "cell_type": "markdown",
   "id": "f677f3f5",
   "metadata": {},
   "source": [
    "Q12.Implement and compare simple random sampling and systematic sampling\n",
    "import numpy as np\n",
    "import pandas as pd\n",
    "\n",
    "# Create sample dataset of 20 items\n",
    "data = pd.DataFrame({\n",
    "    'ID': range(1, 21),\n",
    "    'Value': np.random.randint(10, 100, 20)\n",
    "})\n",
    "\n",
    "# -----------------------------\n",
    "# 1. Simple Random Sampling\n",
    "# -----------------------------\n",
    "simple_random_sample = data.sample(n=5, random_state=42)\n",
    "\n",
    "# -----------------------------\n",
    "# 2. Systematic Sampling\n",
    "# -----------------------------\n",
    "def systematic_sampling(df, step):\n",
    "    indices = np.arange(0, len(df), step)\n",
    "    return df.iloc[indices]\n",
    "\n",
    "systematic_sample = systematic_sampling(data, step=4)  # every 4th item\n",
    "\n",
    "# -----------------------------\n",
    "# Display results\n",
    "# -----------------------------\n",
    "print(\"Original Dataset:\\n\", data, \"\\n\")\n",
    "print(\"Simple Random Sample:\\n\", simple_random_sample, \"\\n\")\n",
    "print(\"Systematic Sample (every 4th item):\\n\", systematic_sample)\n"
   ]
  },
  {
   "cell_type": "markdown",
   "id": "1256273e",
   "metadata": {},
   "source": [
    "Q13. Calculate the mean, median, and mode of grouped data\n",
    "import numpy as np\n",
    "\n",
    "# Class intervals and frequencies\n",
    "class_intervals = [(0, 10), (10, 20), (20, 30), (30, 40), (40, 50)]\n",
    "frequencies = [5, 8, 12, 7, 3]\n",
    "\n",
    "# Calculate midpoints of classes\n",
    "midpoints = [(start + end) / 2 for start, end in class_intervals]\n",
    "\n",
    "# Total number of observations\n",
    "n = sum(frequencies)\n",
    "\n",
    "# ---- Mean ----\n",
    "mean = sum(mid * f for mid, f in zip(midpoints, frequencies)) / n\n",
    "\n",
    "# ---- Median ----\n",
    "# Cumulative frequency\n",
    "cum_freq = np.cumsum(frequencies)\n",
    "\n",
    "# Median class: first class where cumulative frequency >= n/2\n",
    "median_class_index = np.where(cum_freq >= n/2)[0][0]\n",
    "\n",
    "# Median class limits\n",
    "L = class_intervals[median_class_index][0]\n",
    "F = cum_freq[median_class_index - 1] if median_class_index != 0 else 0\n",
    "f_m = frequencies[median_class_index]\n",
    "h = class_intervals[median_class_index][1] - class_intervals[median_class_index][0]\n",
    "\n",
    "median = L + ((n/2 - F) / f_m) * h\n",
    "\n",
    "# ---- Mode ----\n",
    "# Modal class: class with highest frequency\n",
    "modal_class_index = np.argmax(frequencies)\n",
    "L_modal = class_intervals[modal_class_index][0]\n",
    "f_modal = frequencies[modal_class_index]\n",
    "f1 = frequencies[modal_class_index - 1] if modal_class_index != 0 else 0\n",
    "f2 = frequencies[modal_class_index + 1] if modal_class_index != len(frequencies) - 1 else 0\n",
    "h_modal = class_intervals[modal_class_index][1] - class_intervals[modal_class_index][0]\n",
    "\n",
    "mode = L_modal + ((f_modal - f1) / ((2 * f_modal) - f1 - f2)) * h_modal\n",
    "\n",
    "print(f\"Mean: {mean}\")\n",
    "print(f\"Median: {median}\")\n",
    "print(f\"Mode: {mode}\")\n",
    "\n"
   ]
  },
  {
   "cell_type": "markdown",
   "id": "6c752424",
   "metadata": {},
   "source": [
    "Q14. Simulate data using Python and calculate its central tendency and dispersion\n",
    "import numpy as np\n",
    "from scipy import stats\n",
    "\n",
    "# Simulate dataset of 100 values from normal distribution\n",
    "data = np.random.normal(loc=50, scale=10, size=100)\n",
    "\n",
    "# Central tendency\n",
    "mean_val = np.mean(data)\n",
    "median_val = np.median(data)\n",
    "mode_val = stats.mode(data)[0][0]\n",
    "\n",
    "# Dispersion\n",
    "variance_val = np.var(data, ddof=1)  # sample variance\n",
    "std_dev_val = np.std(data, ddof=1)   # sample std deviation\n",
    "\n",
    "print(f\"Simulated Data Central Tendency:\\n Mean = {mean_val}\\n Median = {median_val}\\n Mode = {mode_val}\")\n",
    "print(f\"Simulated Data Dispersion:\\n Variance = {variance_val}\\n Standard Deviation = {std_dev_val}\")\n"
   ]
  },
  {
   "cell_type": "markdown",
   "id": "7faf2b0a",
   "metadata": {},
   "source": [
    "Q15.Use NumPy or pandas to summarize a dataset’s descriptive statistics\n",
    "import pandas as pd\n",
    "import numpy as np\n",
    "\n",
    "# Create a sample dataset\n",
    "data = {\n",
    "    'Age': [25, 32, 47, 51, 62, 23, 44, 36, 29, 40],\n",
    "    'Income': [50000, 60000, 75000, 80000, 120000, 48000, 70000, 64000, 52000, 68000]\n",
    "}\n",
    "\n",
    "df = pd.DataFrame(data)\n",
    "\n",
    "# Summary statistics using pandas\n",
    "summary_stats = df.describe()\n",
    "print(summary_stats)\n"
   ]
  },
  {
   "cell_type": "markdown",
   "id": "0c917800",
   "metadata": {},
   "source": [
    "Q16. Plot a boxplot to understand the spread and identify outliers\n",
    "import matplotlib.pyplot as plt\n",
    "import seaborn as sns\n",
    "\n",
    "plt.figure(figsize=(8, 5))\n",
    "\n",
    "# Boxplot for 'Income'\n",
    "sns.boxplot(x=df['Income'])\n",
    "\n",
    "plt.title(\"Boxplot of Income\")\n",
    "plt.xlabel(\"Income\")\n",
    "plt.show()\n"
   ]
  },
  {
   "cell_type": "markdown",
   "id": "8ba26c05",
   "metadata": {},
   "source": [
    "Q17.Calculate the interquartile range (IQR) of a dataset\n",
    "import numpy as np\n",
    "\n",
    "# Sample dataset\n",
    "data = [10, 12, 15, 18, 21, 22, 25, 28, 30, 33]\n",
    "\n",
    "# Calculate Q1 and Q3\n",
    "Q1 = np.percentile(data, 25)\n",
    "Q3 = np.percentile(data, 75)\n",
    "\n",
    "# IQR\n",
    "IQR = Q3 - Q1\n",
    "\n",
    "print(\"Q1:\", Q1)\n",
    "print(\"Q3:\", Q3)\n",
    "print(\"Interquartile Range (IQR):\", IQR)\n"
   ]
  },
  {
   "cell_type": "markdown",
   "id": "e7b3ab44",
   "metadata": {},
   "source": [
    "Q18. Implement Z-score normalization and explain its significance\n",
    "Z-score normalization standardizes data by centering around the mean and scaling by the standard deviation.\n",
    "\n",
    "Formula:\n",
    "Z = (X - mean) / std_dev\n",
    "from scipy.stats import zscore\n",
    "\n",
    "# Sample dataset\n",
    "data = np.array([10, 12, 15, 18, 21, 22, 25, 28, 30, 33])\n",
    "\n",
    "# Z-score normalization\n",
    "z_scores = zscore(data)\n",
    "\n",
    "print(\"Z-scores:\\n\", z_scores)\n",
    "\n"
   ]
  },
  {
   "cell_type": "markdown",
   "id": "8f933d5c",
   "metadata": {},
   "source": [
    "Q19.Compare two datasets using their standard deviations\n",
    "# Two sample datasets\n",
    "data1 = [50, 52, 54, 53, 55, 58]\n",
    "data2 = [10, 20, 30, 40, 50, 60]\n",
    "\n",
    "std1 = np.std(data1, ddof=1)\n",
    "std2 = np.std(data2, ddof=1)\n",
    "\n",
    "print(\"Standard Deviation of Dataset 1:\", std1)\n",
    "print(\"Standard Deviation of Dataset 2:\", std2)\n",
    "\n",
    "if std1 > std2:\n",
    "    print(\"Dataset 1 is more spread out.\")\n",
    "elif std2 > std1:\n",
    "    print(\"Dataset 2 is more spread out.\")\n",
    "else:\n",
    "    print(\"Both datasets have similar spread.\")\n",
    "\n"
   ]
  },
  {
   "cell_type": "markdown",
   "id": "63b20764",
   "metadata": {},
   "source": [
    "Q20. Write a Python program to visualize covariance using a heatm\n",
    "import pandas as pd\n",
    "import seaborn as sns\n",
    "import matplotlib.pyplot as plt\n",
    "\n",
    "# Sample dataframe\n",
    "df = pd.DataFrame({\n",
    "    'Math': [78, 85, 90, 95, 88],\n",
    "    'Science': [82, 79, 92, 94, 89],\n",
    "    'English': [70, 78, 85, 87, 84]\n",
    "})\n",
    "\n",
    "# Covariance matrix\n",
    "cov_matrix = df.cov()\n",
    "\n",
    "# Heatmap\n",
    "plt.figure(figsize=(6, 4))\n",
    "sns.heatmap(cov_matrix, annot=True, cmap=\"coolwarm\", fmt=\".2f\")\n",
    "plt.title(\"Covariance Heatmap\")\n",
    "plt.show()\n"
   ]
  },
  {
   "cell_type": "markdown",
   "id": "68fc4251",
   "metadata": {},
   "source": [
    "Q21.Use seaborn to create a correlation matrix for a dataset\n",
    "import pandas as pd\n",
    "import seaborn as sns\n",
    "import matplotlib.pyplot as plt\n",
    "\n",
    "# Sample dataframe\n",
    "df = pd.DataFrame({\n",
    "    'Math': [78, 85, 90, 95, 88],\n",
    "    'Science': [82, 79, 92, 94, 89],\n",
    "    'English': [70, 78, 85, 87, 84]\n",
    "})\n",
    "\n",
    "# Covariance matrix\n",
    "cov_matrix = df.cov()\n",
    "\n",
    "# Heatmap\n",
    "plt.figure(figsize=(6, 4))\n",
    "sns.heatmap(cov_matrix, annot=True, cmap=\"coolwarm\", fmt=\".2f\")\n",
    "plt.title(\"Covariance Heatmap\")\n",
    "plt.show()\n"
   ]
  },
  {
   "cell_type": "markdown",
   "id": "3d535e17",
   "metadata": {},
   "source": [
    "Q22.Generate a dataset and implement both variance and standard deviation computations\n",
    "import numpy as np\n",
    "\n",
    "# Simulated dataset\n",
    "data = np.random.randint(50, 100, size=10)\n",
    "\n",
    "# Sample variance and standard deviation (ddof=1)\n",
    "variance = np.var(data, ddof=1)\n",
    "std_dev = np.std(data, ddof=1)\n",
    "\n",
    "print(\"Data:\", data)\n",
    "print(\"Variance:\", variance)\n",
    "print(\"Standard Deviation:\", std_dev)\n",
    "\n"
   ]
  },
  {
   "cell_type": "markdown",
   "id": "2abf35c1",
   "metadata": {},
   "source": [
    "Q23.Visualize skewness and kurtosis using Python libraries like matplotlib or seaborn\n",
    "from scipy.stats import skew, kurtosis\n",
    "\n",
    "# Simulated data (intentionally skewed)\n",
    "data = np.random.exponential(scale=2.0, size=1000)\n",
    "\n",
    "# Calculate skewness and kurtosis\n",
    "skew_val = skew(data)\n",
    "kurt_val = kurtosis(data)\n",
    "\n",
    "# Histogram\n",
    "plt.figure(figsize=(8, 4))\n",
    "sns.histplot(data, kde=True, bins=30)\n",
    "plt.title(f\"Skewness: {skew_val:.2f}, Kurtosis: {kurt_val:.2f}\")\n",
    "plt.xlabel(\"Value\")\n",
    "plt.ylabel(\"Frequency\")\n",
    "plt.show()\n"
   ]
  },
  {
   "cell_type": "markdown",
   "id": "1bd86ee0",
   "metadata": {},
   "source": [
    "Q24. Implement the Pearson and Spearman correlation coefficients for a dataset\n",
    "from scipy.stats import pearsonr, spearmanr\n",
    "\n",
    "# Sample data\n",
    "x = [1, 2, 3, 4, 5]\n",
    "y = [5, 6, 7, 8, 7]\n",
    "\n",
    "# Pearson\n",
    "pearson_corr, _ = pearsonr(x, y)\n",
    "\n",
    "# Spearman\n",
    "spearman_corr, _ = spearmanr(x, y)\n",
    "\n",
    "print(\"Pearson Correlation:\", pearson_corr)\n",
    "print(\"Spearman Correlation:\", spearman_corr)\n"
   ]
  },
  {
   "cell_type": "markdown",
   "id": "2650eae0",
   "metadata": {},
   "source": []
  }
 ],
 "metadata": {
  "language_info": {
   "name": "python"
  }
 },
 "nbformat": 4,
 "nbformat_minor": 5
}
